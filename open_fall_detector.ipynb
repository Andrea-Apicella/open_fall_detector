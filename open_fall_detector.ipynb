{
 "cells": [
  {
   "cell_type": "markdown",
   "source": [
    "# Open Fall Detector"
   ],
   "metadata": {
    "id": "L7H_S7Cp_TRa"
   }
  },
  {
   "cell_type": "markdown",
   "source": [
    "## To do\n",
    "Implement a classificator based on MobileNetV2 or another light CNN architecture to extract features from Multicam and URFall datasets. Feed the features to a LSTM network with visual attention mechanism to classify features in ADL, falling and lying down categories.\n",
    "\n",
    "\n",
    "1. <del>Remove delay frames and split Multicam in one folder per class</del>\n",
    "2. <del> Split URFall in one folder per class </del>\n",
    "3. Use EfficientNet to classify images\n",
    "4. Use EfficientNet just to extract features\n",
    "5. Feed LSTM with features extracted by the CNN\n",
    "6. Implement visual attention"
   ],
   "metadata": {
    "id": "foQ6oxty_eX4"
   }
  },
  {
   "cell_type": "code",
   "execution_count": 3,
   "source": [
    "import pandas as pd\n",
    "import numpy as np\n",
    "import os\n",
    "import shutil\n",
    "from natsort import natsorted\n",
    "import glob\n",
    "import cv2\n",
    "from tqdm import tqdm"
   ],
   "outputs": [],
   "metadata": {
    "id": "EsL2kQ9v_Sny"
   }
  },
  {
   "cell_type": "markdown",
   "source": [
    "## Utilities"
   ],
   "metadata": {}
  },
  {
   "cell_type": "code",
   "execution_count": 32,
   "source": [
    "def listdir_nohidden_sorted(path):\n",
    "    return natsorted(glob.glob(os.path.join(path, '*')))\n",
    "\n",
    "def safe_mkdir(path):\n",
    "    try:\n",
    "        os.mkdir(path)\n",
    "    except FileExistsError:\n",
    "        pass\n",
    "    \n",
    "def extract_frames(video_path, frame_name, frame_format, dest):\n",
    "    import cv2\n",
    "    capture = cv2.VideoCapture(video_path)\n",
    "    count = 1\n",
    "    safe_mkdir(dest)\n",
    "\n",
    "    while True:\n",
    "        success, frame = capture.read()\n",
    "        if not success:\n",
    "            break\n",
    "\n",
    "        safe_mkdir(dest)\n",
    "        file = f'{dest}/{frame_name}{str(count).zfill(6)}.{frame_format}'\n",
    "        if not os.path.exists(file):    \n",
    "            cv2.imwrite(file, frame)\n",
    "            print(f'extracting {file} to {dest} --- {count} frames moved.')\n",
    "        else:\n",
    "            print('file already exists.')\n",
    "        count += 1"
   ],
   "outputs": [],
   "metadata": {}
  },
  {
   "cell_type": "markdown",
   "source": [
    "## Paths"
   ],
   "metadata": {}
  },
  {
   "cell_type": "code",
   "execution_count": 12,
   "source": [
    "MULTICAM_PATH = './data/multicam'\n",
    "MULTICAM_FRAMES_PATH = './data/multicam_frames'\n",
    "MULTICAM_EXCEL_PATH = './data/multicam.xlsx'\n",
    "MULTICAM_FRAMES_CLASSES_PATH = './data/multicam_frames_classes'"
   ],
   "outputs": [],
   "metadata": {}
  },
  {
   "cell_type": "markdown",
   "source": [
    "## 1: Preprocessing Multicam"
   ],
   "metadata": {
    "id": "GyS75FPSA6hz"
   }
  },
  {
   "cell_type": "markdown",
   "source": [
    "#### Global Multicam Variables"
   ],
   "metadata": {}
  },
  {
   "cell_type": "code",
   "execution_count": 21,
   "source": [
    "img_name_format = f'./data/{MULTICAM_FRAMES_PATH}/chuteXX-camY-img'\n",
    "start = len(f'./data/{MULTICAM_FRAMES_PATH}/')\n",
    "chute_number_start = img_name_format.find('chute', start) + 6\n",
    "chute_number_end = chute_number_start + 2\n",
    "cam_number_index = img_name_format.find('cam', start) + 4\n",
    "img_number_start = img_name_format.find('img', start) + 4 \n",
    "img_number_end = img_number_start + 6"
   ],
   "outputs": [],
   "metadata": {}
  },
  {
   "cell_type": "code",
   "execution_count": 22,
   "source": [
    "multicam_delay_frames = pd.read_excel(MULTICAM_EXCEL_PATH, sheet_name='delay_frames')\n",
    "multicam_delay_frames.head()"
   ],
   "outputs": [
    {
     "output_type": "execute_result",
     "data": {
      "text/html": [
       "<div>\n",
       "<style scoped>\n",
       "    .dataframe tbody tr th:only-of-type {\n",
       "        vertical-align: middle;\n",
       "    }\n",
       "\n",
       "    .dataframe tbody tr th {\n",
       "        vertical-align: top;\n",
       "    }\n",
       "\n",
       "    .dataframe thead th {\n",
       "        text-align: right;\n",
       "    }\n",
       "</style>\n",
       "<table border=\"1\" class=\"dataframe\">\n",
       "  <thead>\n",
       "    <tr style=\"text-align: right;\">\n",
       "      <th></th>\n",
       "      <th>scenario_number</th>\n",
       "      <th>camera_1</th>\n",
       "      <th>camera_2</th>\n",
       "      <th>camera_3</th>\n",
       "      <th>camera_4</th>\n",
       "      <th>camera_5</th>\n",
       "      <th>camera_6</th>\n",
       "      <th>camera_7</th>\n",
       "      <th>camera_8</th>\n",
       "    </tr>\n",
       "  </thead>\n",
       "  <tbody>\n",
       "    <tr>\n",
       "      <th>0</th>\n",
       "      <td>1</td>\n",
       "      <td>3</td>\n",
       "      <td>3</td>\n",
       "      <td>8</td>\n",
       "      <td>4</td>\n",
       "      <td>23</td>\n",
       "      <td>6</td>\n",
       "      <td>6</td>\n",
       "      <td>0</td>\n",
       "    </tr>\n",
       "    <tr>\n",
       "      <th>1</th>\n",
       "      <td>2</td>\n",
       "      <td>25</td>\n",
       "      <td>40</td>\n",
       "      <td>0</td>\n",
       "      <td>16</td>\n",
       "      <td>18</td>\n",
       "      <td>33</td>\n",
       "      <td>33</td>\n",
       "      <td>6</td>\n",
       "    </tr>\n",
       "    <tr>\n",
       "      <th>2</th>\n",
       "      <td>3</td>\n",
       "      <td>12</td>\n",
       "      <td>16</td>\n",
       "      <td>8</td>\n",
       "      <td>16</td>\n",
       "      <td>35</td>\n",
       "      <td>20</td>\n",
       "      <td>20</td>\n",
       "      <td>0</td>\n",
       "    </tr>\n",
       "    <tr>\n",
       "      <th>3</th>\n",
       "      <td>4</td>\n",
       "      <td>72</td>\n",
       "      <td>79</td>\n",
       "      <td>78</td>\n",
       "      <td>0</td>\n",
       "      <td>68</td>\n",
       "      <td>82</td>\n",
       "      <td>83</td>\n",
       "      <td>56</td>\n",
       "    </tr>\n",
       "    <tr>\n",
       "      <th>4</th>\n",
       "      <td>5</td>\n",
       "      <td>17</td>\n",
       "      <td>24</td>\n",
       "      <td>5</td>\n",
       "      <td>11</td>\n",
       "      <td>7</td>\n",
       "      <td>26</td>\n",
       "      <td>28</td>\n",
       "      <td>0</td>\n",
       "    </tr>\n",
       "  </tbody>\n",
       "</table>\n",
       "</div>"
      ],
      "text/plain": [
       "   scenario_number  camera_1  camera_2  camera_3  camera_4  camera_5  \\\n",
       "0                1         3         3         8         4        23   \n",
       "1                2        25        40         0        16        18   \n",
       "2                3        12        16         8        16        35   \n",
       "3                4        72        79        78         0        68   \n",
       "4                5        17        24         5        11         7   \n",
       "\n",
       "   camera_6  camera_7  camera_8  \n",
       "0         6         6         0  \n",
       "1        33        33         6  \n",
       "2        20        20         0  \n",
       "3        82        83        56  \n",
       "4        26        28         0  "
      ]
     },
     "metadata": {},
     "execution_count": 22
    }
   ],
   "metadata": {
    "colab": {
     "base_uri": "https://localhost:8080/",
     "height": 204
    },
    "id": "OReA04W7KjxX",
    "outputId": "430d0ca8-0f8c-41d6-93e6-b40b1304c3f5",
    "scrolled": true
   }
  },
  {
   "cell_type": "code",
   "execution_count": 4,
   "source": [
    "multicam_labels = pd.read_excel(MULTICAM_EXCEL_PATH, sheet_name='labels')\n",
    "multicam_labels.head()"
   ],
   "outputs": [
    {
     "output_type": "execute_result",
     "data": {
      "text/html": [
       "<div>\n",
       "<style scoped>\n",
       "    .dataframe tbody tr th:only-of-type {\n",
       "        vertical-align: middle;\n",
       "    }\n",
       "\n",
       "    .dataframe tbody tr th {\n",
       "        vertical-align: top;\n",
       "    }\n",
       "\n",
       "    .dataframe thead th {\n",
       "        text-align: right;\n",
       "    }\n",
       "</style>\n",
       "<table border=\"1\" class=\"dataframe\">\n",
       "  <thead>\n",
       "    <tr style=\"text-align: right;\">\n",
       "      <th></th>\n",
       "      <th>scenario_number</th>\n",
       "      <th>camera_reference</th>\n",
       "      <th>period_start</th>\n",
       "      <th>period_end</th>\n",
       "      <th>class</th>\n",
       "    </tr>\n",
       "  </thead>\n",
       "  <tbody>\n",
       "    <tr>\n",
       "      <th>0</th>\n",
       "      <td>1</td>\n",
       "      <td>11</td>\n",
       "      <td>874</td>\n",
       "      <td>1011</td>\n",
       "      <td>1</td>\n",
       "    </tr>\n",
       "    <tr>\n",
       "      <th>1</th>\n",
       "      <td>1</td>\n",
       "      <td>11</td>\n",
       "      <td>1012</td>\n",
       "      <td>1079</td>\n",
       "      <td>6</td>\n",
       "    </tr>\n",
       "    <tr>\n",
       "      <th>2</th>\n",
       "      <td>1</td>\n",
       "      <td>11</td>\n",
       "      <td>1080</td>\n",
       "      <td>1108</td>\n",
       "      <td>2</td>\n",
       "    </tr>\n",
       "    <tr>\n",
       "      <th>3</th>\n",
       "      <td>1</td>\n",
       "      <td>11</td>\n",
       "      <td>1109</td>\n",
       "      <td>1285</td>\n",
       "      <td>3</td>\n",
       "    </tr>\n",
       "    <tr>\n",
       "      <th>4</th>\n",
       "      <td>2</td>\n",
       "      <td>4</td>\n",
       "      <td>308</td>\n",
       "      <td>374</td>\n",
       "      <td>1</td>\n",
       "    </tr>\n",
       "  </tbody>\n",
       "</table>\n",
       "</div>"
      ],
      "text/plain": [
       "   scenario_number  camera_reference  period_start  period_end  class\n",
       "0                1                11           874        1011      1\n",
       "1                1                11          1012        1079      6\n",
       "2                1                11          1080        1108      2\n",
       "3                1                11          1109        1285      3\n",
       "4                2                 4           308         374      1"
      ]
     },
     "metadata": {},
     "execution_count": 4
    }
   ],
   "metadata": {
    "id": "8XD08A-owO4r"
   }
  },
  {
   "cell_type": "markdown",
   "source": [
    "### 1.1 Extracting frames from videos"
   ],
   "metadata": {}
  },
  {
   "cell_type": "code",
   "execution_count": null,
   "source": [
    "safe_mkdir(MULTICAM_FRAMES_PATH)\n",
    "\n",
    "chutes = listdir_nohidden_sorted(MULTICAM_PATH)\n",
    "index = 1\n",
    "for chute in tqdm(chutes):\n",
    "    cams = listdir_nohidden_sorted(chute)\n",
    "    \n",
    "    for c, cam in enumerate(cams):\n",
    "        file_path = cam\n",
    "        number = str(index).zfill(2)\n",
    "        dest = f'{MULTICAM_FRAMES_PATH}/chute{number}'\n",
    "        name = f'chute{number}-cam{c+1}-img'\n",
    "        extension = 'jpg'\n",
    "        extract_frames(file_path, name, extension, dest)\n",
    "    index+=1"
   ],
   "outputs": [],
   "metadata": {}
  },
  {
   "cell_type": "markdown",
   "source": [
    "### 1.2 Removing delay frames"
   ],
   "metadata": {}
  },
  {
   "cell_type": "code",
   "execution_count": null,
   "source": [
    "safe_mkdir('./data/multicam_delay_frames')\n",
    "chutes = listdir_nohidden_sorted(MULTICAM_FRAMES_PATH)\n",
    "\n",
    "for chute in chutes:\n",
    "    imgs = listdir_nohidden_sorted(chute)\n",
    "    for img in tqdm(imgs):\n",
    "        cam_number = int(img[cam_number_index])\n",
    "        chute_number = int(img[chute_number_start: chute_number_end])\n",
    "        img_number = int(img[img_number_start: img_number_end])\n",
    "        camera = multicam_delay_frames[f'camera_{cam_number}']\n",
    "        delay = camera[chute_number-1]\n",
    "        source = img\n",
    "        destination = './data/multicam_delay_frames' \n",
    "        if img_number <= delay:\n",
    "            pass\n",
    "            shutil.move(source, destination) \n",
    "            print(f'moving {source} to {destination}')"
   ],
   "outputs": [],
   "metadata": {}
  },
  {
   "cell_type": "code",
   "execution_count": null,
   "source": [
    "print('Total delay frames to remove: ',multicam_delay_frames.iloc[:,1:].to_numpy().sum())\n",
    "print('Total delay frames removed: ', len(listdir_nohidden_sorted(destination)))"
   ],
   "outputs": [],
   "metadata": {}
  },
  {
   "cell_type": "markdown",
   "source": [
    "### 1.3 Dividing frames in 10 folders (one for each class)"
   ],
   "metadata": {}
  },
  {
   "cell_type": "code",
   "execution_count": null,
   "source": [
    "multicam_labels.head(10)"
   ],
   "outputs": [],
   "metadata": {}
  },
  {
   "cell_type": "code",
   "execution_count": 15,
   "source": [
    "multicam_classes = pd.read_excel(MULTICAM_EXCEL_PATH, sheet_name='classes', index_col=0)\n",
    "multicam_classes.head(10)"
   ],
   "outputs": [
    {
     "output_type": "execute_result",
     "data": {
      "text/html": [
       "<div>\n",
       "<style scoped>\n",
       "    .dataframe tbody tr th:only-of-type {\n",
       "        vertical-align: middle;\n",
       "    }\n",
       "\n",
       "    .dataframe tbody tr th {\n",
       "        vertical-align: top;\n",
       "    }\n",
       "\n",
       "    .dataframe thead th {\n",
       "        text-align: right;\n",
       "    }\n",
       "</style>\n",
       "<table border=\"1\" class=\"dataframe\">\n",
       "  <thead>\n",
       "    <tr style=\"text-align: right;\">\n",
       "      <th></th>\n",
       "      <th>class</th>\n",
       "    </tr>\n",
       "  </thead>\n",
       "  <tbody>\n",
       "    <tr>\n",
       "      <th>1</th>\n",
       "      <td>walking_or_standing_up</td>\n",
       "    </tr>\n",
       "    <tr>\n",
       "      <th>2</th>\n",
       "      <td>falling</td>\n",
       "    </tr>\n",
       "    <tr>\n",
       "      <th>3</th>\n",
       "      <td>lying_on_the_ground</td>\n",
       "    </tr>\n",
       "    <tr>\n",
       "      <th>4</th>\n",
       "      <td>crounching</td>\n",
       "    </tr>\n",
       "    <tr>\n",
       "      <th>5</th>\n",
       "      <td>moving_down</td>\n",
       "    </tr>\n",
       "    <tr>\n",
       "      <th>6</th>\n",
       "      <td>moving_up</td>\n",
       "    </tr>\n",
       "    <tr>\n",
       "      <th>7</th>\n",
       "      <td>sitting</td>\n",
       "    </tr>\n",
       "    <tr>\n",
       "      <th>8</th>\n",
       "      <td>lying_on_a_sofa</td>\n",
       "    </tr>\n",
       "    <tr>\n",
       "      <th>9</th>\n",
       "      <td>moving_horizontaly</td>\n",
       "    </tr>\n",
       "  </tbody>\n",
       "</table>\n",
       "</div>"
      ],
      "text/plain": [
       "                    class\n",
       "1  walking_or_standing_up\n",
       "2                 falling\n",
       "3     lying_on_the_ground\n",
       "4              crounching\n",
       "5             moving_down\n",
       "6               moving_up\n",
       "7                 sitting\n",
       "8         lying_on_a_sofa\n",
       "9      moving_horizontaly"
      ]
     },
     "metadata": {},
     "execution_count": 15
    }
   ],
   "metadata": {}
  },
  {
   "cell_type": "code",
   "execution_count": 17,
   "source": [
    "chutes = listdir_nohidden_sorted(MULTICAM_FRAMES_PATH)\n",
    "for c in multicam_classes['class']:\n",
    "    safe_mkdir(f'{MULTICAM_FRAMES_CLASSES_PATH}/{c}')"
   ],
   "outputs": [],
   "metadata": {}
  },
  {
   "cell_type": "code",
   "execution_count": 108,
   "source": [
    "classes = multicam_classes['class']\n",
    "total_moved = 0\n",
    "for chute in chutes:\n",
    "    per_chute_moved = 0\n",
    "    imgs = listdir_nohidden_sorted(chute)\n",
    "    for img in (t:= tqdm(imgs)):\n",
    "        chute_number = int(img[chute_number_start: chute_number_end])\n",
    "        cam_number = int(img[cam_number_index])\n",
    "        img_number = int(img[img_number_start:img_number_end])\n",
    "        \n",
    "        chute_rows = multicam_labels.loc[multicam_labels['scenario_number'] == chute_number]\n",
    "        num_rows = chute_rows.shape[0]\n",
    "        for row_number in range(num_rows):\n",
    "            row = chute_rows.iloc[[row_number]]\n",
    "            period_start = int(row['period_start'])\n",
    "            period_end = int(row['period_end'])\n",
    "            \n",
    "            if period_start <= img_number <= period_end:\n",
    "                class_number = int(row['class'])\n",
    "                dest = f'{MULTICAM_FRAMES_CLASSES_PATH}/{classes[class_number]}'\n",
    "                shutil.move(img, dest)\n",
    "                per_chute_moved += 1\n",
    "                total_moved += 1\n",
    "                t.set_description(f'Working on chute {str(chute_number).zfill(2)}... Moved {per_chute_moved} images')\n",
    "print(f'Total images moved: {total_moved}')"
   ],
   "outputs": [
    {
     "output_type": "stream",
     "name": "stderr",
     "text": [
      "Working on chute 01... Moved 3296 images: 100%|█████████████████████████| 12472/12472 [00:06<00:00, 1876.13it/s]\n",
      "Working on chute 02... Moved 2344 images: 100%|███████████████████████████| 6448/6448 [00:03<00:00, 1905.23it/s]\n",
      "Working on chute 03... Moved 3240 images: 100%|███████████████████████████| 7416/7416 [00:04<00:00, 1758.45it/s]\n",
      "Working on chute 04... Moved 4408 images: 100%|███████████████████████████| 7816/7816 [00:07<00:00, 1094.33it/s]\n",
      "Working on chute 05... Moved 1304 images: 100%|███████████████████████████| 6011/6011 [00:02<00:00, 2183.58it/s]\n",
      "Working on chute 06... Moved 3408 images: 100%|█████████████████████████| 10048/10048 [00:05<00:00, 1897.75it/s]\n",
      "Working on chute 07... Moved 2808 images: 100%|███████████████████████████| 7184/7184 [00:04<00:00, 1747.42it/s]\n",
      "Working on chute 08... Moved 1896 images: 100%|███████████████████████████| 4968/4968 [00:03<00:00, 1433.37it/s]\n",
      "Working on chute 09... Moved 3608 images: 100%|███████████████████████████| 7320/7320 [00:06<00:00, 1181.27it/s]\n",
      "Working on chute 10... Moved 2928 images: 100%|███████████████████████████| 7432/7432 [00:04<00:00, 1610.20it/s]\n",
      "Working on chute 11... Moved 1784 images: 100%|███████████████████████████| 6392/6392 [00:03<00:00, 2111.18it/s]\n",
      "Working on chute 12... Moved 3328 images: 100%|███████████████████████████| 7328/7328 [00:04<00:00, 1658.12it/s]\n",
      "Working on chute 13... Moved 5280 images: 100%|████████████████████████████| 9520/9520 [00:10<00:00, 909.73it/s]\n",
      "Working on chute 14... Moved 5952 images: 100%|█████████████████████████| 11600/11600 [00:10<00:00, 1079.43it/s]\n",
      "Working on chute 15... Moved 4064 images: 100%|███████████████████████████| 8568/8568 [00:07<00:00, 1193.08it/s]\n",
      "Working on chute 16... Moved 4968 images: 100%|████████████████████████████| 9688/9688 [00:12<00:00, 775.86it/s]\n",
      "Working on chute 17... Moved 4880 images: 100%|██████████████████████████| 12144/12144 [00:14<00:00, 822.12it/s]\n",
      "Working on chute 18... Moved 3520 images: 100%|███████████████████████████| 7216/7216 [00:06<00:00, 1156.75it/s]\n",
      "Working on chute 19... Moved 4128 images: 100%|███████████████████████████| 7976/7976 [00:05<00:00, 1468.57it/s]\n",
      "Working on chute 20... Moved 4000 images: 100%|███████████████████████████| 7864/7864 [00:05<00:00, 1478.58it/s]\n",
      "Working on chute 21... Moved 5064 images: 100%|███████████████████████████| 9496/9496 [00:08<00:00, 1056.89it/s]\n",
      "Working on chute 22... Moved 4912 images: 100%|████████████████████████████| 8872/8872 [00:09<00:00, 936.34it/s]\n",
      "Working on chute 23... Moved 38464 images: 100%|█████████████████████████| 42800/42800 [02:11<00:00, 324.51it/s]\n",
      "Working on chute 24... Moved 25208 images: 100%|█████████████████████████| 29355/29355 [01:12<00:00, 405.17it/s]"
     ]
    },
    {
     "output_type": "stream",
     "name": "stdout",
     "text": [
      "Total images moved: 144792\n"
     ]
    },
    {
     "output_type": "stream",
     "name": "stderr",
     "text": [
      "\n"
     ]
    }
   ],
   "metadata": {}
  },
  {
   "cell_type": "markdown",
   "source": [
    "# 2. Split URFall in one folder per class"
   ],
   "metadata": {}
  },
  {
   "cell_type": "markdown",
   "source": [
    "## 2.1 URFall Global Variables and Imports"
   ],
   "metadata": {}
  },
  {
   "cell_type": "code",
   "execution_count": 33,
   "source": [
    "URFALL_PATH = './data/URFall'\n",
    "URFALL_FALLS_CAM0_FRAMES = f'{URFALL_PATH}/falls-cam0-rgb'\n",
    "URFALL_FALLS_CAM0_LABELS = f'{URFALL_PATH}/urfall-cam0-falls.csv'\n",
    "URFALL_CLASSES = {'-1':'not_lying', '0':'falling', '1':'lying' }"
   ],
   "outputs": [],
   "metadata": {}
  },
  {
   "cell_type": "code",
   "execution_count": 29,
   "source": [
    "columns = ['sequence_name', 'frame_number', 'label', 'height_width_ratio', 'major_minor_ratio', 'bounding_box_occupancy','max_std_xz','hh_max_ratio','H','D','P40']\n",
    "urfall_falls_cam0 = pd.read_csv(URFALL_FALLS_CAM0_LABELS, names=columns, usecols=['sequence_name', 'frame_number', 'label'] )\n",
    "urfall_falls_cam0"
   ],
   "outputs": [
    {
     "output_type": "execute_result",
     "data": {
      "text/html": [
       "<div>\n",
       "<style scoped>\n",
       "    .dataframe tbody tr th:only-of-type {\n",
       "        vertical-align: middle;\n",
       "    }\n",
       "\n",
       "    .dataframe tbody tr th {\n",
       "        vertical-align: top;\n",
       "    }\n",
       "\n",
       "    .dataframe thead th {\n",
       "        text-align: right;\n",
       "    }\n",
       "</style>\n",
       "<table border=\"1\" class=\"dataframe\">\n",
       "  <thead>\n",
       "    <tr style=\"text-align: right;\">\n",
       "      <th></th>\n",
       "      <th>sequence_name</th>\n",
       "      <th>frame_number</th>\n",
       "      <th>label</th>\n",
       "    </tr>\n",
       "  </thead>\n",
       "  <tbody>\n",
       "    <tr>\n",
       "      <th>0</th>\n",
       "      <td>fall-01</td>\n",
       "      <td>1</td>\n",
       "      <td>-1</td>\n",
       "    </tr>\n",
       "    <tr>\n",
       "      <th>1</th>\n",
       "      <td>fall-01</td>\n",
       "      <td>2</td>\n",
       "      <td>-1</td>\n",
       "    </tr>\n",
       "    <tr>\n",
       "      <th>2</th>\n",
       "      <td>fall-01</td>\n",
       "      <td>3</td>\n",
       "      <td>-1</td>\n",
       "    </tr>\n",
       "    <tr>\n",
       "      <th>3</th>\n",
       "      <td>fall-01</td>\n",
       "      <td>4</td>\n",
       "      <td>-1</td>\n",
       "    </tr>\n",
       "    <tr>\n",
       "      <th>4</th>\n",
       "      <td>fall-01</td>\n",
       "      <td>5</td>\n",
       "      <td>-1</td>\n",
       "    </tr>\n",
       "    <tr>\n",
       "      <th>...</th>\n",
       "      <td>...</td>\n",
       "      <td>...</td>\n",
       "      <td>...</td>\n",
       "    </tr>\n",
       "    <tr>\n",
       "      <th>2990</th>\n",
       "      <td>fall-30</td>\n",
       "      <td>66</td>\n",
       "      <td>1</td>\n",
       "    </tr>\n",
       "    <tr>\n",
       "      <th>2991</th>\n",
       "      <td>fall-30</td>\n",
       "      <td>67</td>\n",
       "      <td>1</td>\n",
       "    </tr>\n",
       "    <tr>\n",
       "      <th>2992</th>\n",
       "      <td>fall-30</td>\n",
       "      <td>68</td>\n",
       "      <td>1</td>\n",
       "    </tr>\n",
       "    <tr>\n",
       "      <th>2993</th>\n",
       "      <td>fall-30</td>\n",
       "      <td>69</td>\n",
       "      <td>1</td>\n",
       "    </tr>\n",
       "    <tr>\n",
       "      <th>2994</th>\n",
       "      <td>fall-30</td>\n",
       "      <td>70</td>\n",
       "      <td>1</td>\n",
       "    </tr>\n",
       "  </tbody>\n",
       "</table>\n",
       "<p>2995 rows × 3 columns</p>\n",
       "</div>"
      ],
      "text/plain": [
       "     sequence_name  frame_number  label\n",
       "0          fall-01             1     -1\n",
       "1          fall-01             2     -1\n",
       "2          fall-01             3     -1\n",
       "3          fall-01             4     -1\n",
       "4          fall-01             5     -1\n",
       "...            ...           ...    ...\n",
       "2990       fall-30            66      1\n",
       "2991       fall-30            67      1\n",
       "2992       fall-30            68      1\n",
       "2993       fall-30            69      1\n",
       "2994       fall-30            70      1\n",
       "\n",
       "[2995 rows x 3 columns]"
      ]
     },
     "metadata": {},
     "execution_count": 29
    }
   ],
   "metadata": {}
  },
  {
   "cell_type": "markdown",
   "source": [
    "## 2.2 Move URFall frames to one folder per class"
   ],
   "metadata": {}
  },
  {
   "cell_type": "code",
   "execution_count": 46,
   "source": [
    "urfall_frames = listdir_nohidden_sorted(URFALL_FALLS_CAM0_FRAMES)\n",
    "for value in URFALL_CLASSES.values():\n",
    "  safe_mkdir(f'{URFALL_PATH}/{value}')\n",
    "  \n",
    "for i, img in (t:=tqdm(enumerate(urfall_frames))):\n",
    "  label = int(urfall_falls_cam0.iloc[i, -1:])\n",
    "  key = str(label)\n",
    "  dest = f'{URFALL_PATH}/{URFALL_CLASSES[key]}'\n",
    "  t.set_description(f'Moving img n°: {i} to {URFALL_CLASSES[key]} because label {key}')\n",
    "  shutil.move(img, dest)"
   ],
   "outputs": [
    {
     "output_type": "stream",
     "name": "stderr",
     "text": [
      "Moving img n°: 2977 to falling because label 0: : 2967it [00:02, 1313.69it/s]IOPub message rate exceeded.\n",
      "The notebook server will temporarily stop sending output\n",
      "to the client in order to avoid crashing it.\n",
      "To change this limit, set the config variable\n",
      "`--NotebookApp.iopub_msg_rate_limit`.\n",
      "\n",
      "Current values:\n",
      "NotebookApp.iopub_msg_rate_limit=1000.0 (msgs/sec)\n",
      "NotebookApp.rate_limit_window=3.0 (secs)\n",
      "\n"
     ]
    }
   ],
   "metadata": {}
  },
  {
   "cell_type": "markdown",
   "source": [
    "# 3. CNN"
   ],
   "metadata": {}
  },
  {
   "cell_type": "markdown",
   "source": [
    "#### Models Global Variables"
   ],
   "metadata": {}
  },
  {
   "cell_type": "code",
   "execution_count": 49,
   "source": [
    "MODELS_PATH = './models'"
   ],
   "outputs": [],
   "metadata": {}
  },
  {
   "cell_type": "code",
   "execution_count": 50,
   "source": [
    "import tensorflow as tf\n",
    "from tensorflow.keras.models import Sequential\n",
    "from tensorflow.keras.layers import Dense, Dropout\n",
    "from tensorflow.keras.layers import GlobalAveragePooling2D\n",
    "#from tensorflow.keras.utils import plot_model\n",
    "from keras.utils.vis_utils import plot_model\n",
    "from tensorflow.keras.metrics import SparseCategoricalAccuracy\n",
    "print(tf.__version__)"
   ],
   "outputs": [
    {
     "output_type": "stream",
     "name": "stdout",
     "text": [
      "2.5.0\n"
     ]
    }
   ],
   "metadata": {}
  },
  {
   "cell_type": "markdown",
   "source": [
    "## 3.1 EfficientNetB0 to classify frames"
   ],
   "metadata": {}
  },
  {
   "cell_type": "code",
   "execution_count": 51,
   "source": [
    "INPUT_SHAPE = (224,224)\n",
    "BS = 32"
   ],
   "outputs": [],
   "metadata": {}
  },
  {
   "cell_type": "code",
   "execution_count": 52,
   "source": [
    "efnet_b0 = tf.keras.applications.efficientnet.EfficientNetB0(\n",
    "    include_top=False, weights='imagenet',\n",
    ")"
   ],
   "outputs": [],
   "metadata": {}
  },
  {
   "cell_type": "code",
   "execution_count": 53,
   "source": [
    "model = Sequential()\n",
    "model.add(efnet_b0)\n",
    "efnet_b0.trainable = False\n",
    "model.add(GlobalAveragePooling2D())\n",
    "model.add(Dense(units=512,activation='relu'))\n",
    "model.add(Dropout(0.3))\n",
    "model.add(Dense(units=256,activation='relu'))\n",
    "model.add(Dropout(0.3))\n",
    "model.add(Dense(units=128,activation='relu'))\n",
    "model.add(Dropout(0.3))\n",
    "model.add(Dense(units=9,activation='softmax'))\n",
    "model.compile(loss='categorical_crossentropy', optimizer='adam', metrics='categorical_accuracy')\n",
    "model.summary()"
   ],
   "outputs": [
    {
     "output_type": "stream",
     "name": "stdout",
     "text": [
      "Model: \"sequential_2\"\n",
      "_________________________________________________________________\n",
      "Layer (type)                 Output Shape              Param #   \n",
      "=================================================================\n",
      "efficientnetb0 (Functional)  (None, None, None, 1280)  4049571   \n",
      "_________________________________________________________________\n",
      "global_average_pooling2d_2 ( (None, 1280)              0         \n",
      "_________________________________________________________________\n",
      "dense_8 (Dense)              (None, 512)               655872    \n",
      "_________________________________________________________________\n",
      "dense_9 (Dense)              (None, 256)               131328    \n",
      "_________________________________________________________________\n",
      "dense_10 (Dense)             (None, 128)               32896     \n",
      "_________________________________________________________________\n",
      "dense_11 (Dense)             (None, 9)                 1161      \n",
      "=================================================================\n",
      "Total params: 4,870,828\n",
      "Trainable params: 821,257\n",
      "Non-trainable params: 4,049,571\n",
      "_________________________________________________________________\n"
     ]
    }
   ],
   "metadata": {}
  },
  {
   "cell_type": "markdown",
   "source": [],
   "metadata": {}
  },
  {
   "cell_type": "code",
   "execution_count": 54,
   "source": [
    "for i, layer in enumerate(model.layers):\n",
    "   print(i, layer.name, layer.trainable)"
   ],
   "outputs": [
    {
     "output_type": "stream",
     "name": "stdout",
     "text": [
      "0 efficientnetb0 False\n",
      "1 global_average_pooling2d_2 True\n",
      "2 dense_8 True\n",
      "3 dense_9 True\n",
      "4 dense_10 True\n",
      "5 dense_11 True\n"
     ]
    }
   ],
   "metadata": {}
  },
  {
   "cell_type": "code",
   "execution_count": 55,
   "source": [
    "from tensorflow.keras.preprocessing.image import ImageDataGenerator"
   ],
   "outputs": [],
   "metadata": {}
  },
  {
   "cell_type": "code",
   "execution_count": 56,
   "source": [
    "datagen = ImageDataGenerator( rotation_range=10,\n",
    "                              width_shift_range=0.3,\n",
    "                              height_shift_range=0,\n",
    "                              shear_range=0.2,\n",
    "                              zoom_range=0.3,\n",
    "                              horizontal_flip=True,\n",
    "                              vertical_flip=False,\n",
    "                              validation_split=0.2\n",
    "                              )"
   ],
   "outputs": [],
   "metadata": {}
  },
  {
   "cell_type": "code",
   "execution_count": 57,
   "source": [
    "train_generator = datagen.flow_from_directory(\n",
    "    directory=MULTICAM_FRAMES_CLASSES_PATH,\n",
    "    target_size=INPUT_SHAPE,\n",
    "    color_mode='rgb',\n",
    "    batch_size=BS,\n",
    "    class_mode='categorical',\n",
    "    shuffle=True,\n",
    "    subset='training')\n",
    "\n",
    "test_generator = datagen.flow_from_directory(\n",
    "    directory=MULTICAM_FRAMES_CLASSES_PATH,\n",
    "    target_size=INPUT_SHAPE,\n",
    "    color_mode='rgb',\n",
    "    batch_size=BS,\n",
    "    class_mode='categorical',\n",
    "    shuffle=False,\n",
    "    subset='validation')"
   ],
   "outputs": [
    {
     "output_type": "stream",
     "name": "stdout",
     "text": [
      "Found 115838 images belonging to 9 classes.\n",
      "Found 28954 images belonging to 9 classes.\n"
     ]
    }
   ],
   "metadata": {}
  },
  {
   "cell_type": "code",
   "execution_count": 58,
   "source": [
    "train_generator.class_indices"
   ],
   "outputs": [
    {
     "output_type": "execute_result",
     "data": {
      "text/plain": [
       "{'crounching': 0,\n",
       " 'falling': 1,\n",
       " 'lying_on_a_sofa': 2,\n",
       " 'lying_on_the_ground': 3,\n",
       " 'moving_down': 4,\n",
       " 'moving_horizontaly': 5,\n",
       " 'moving_up': 6,\n",
       " 'sitting': 7,\n",
       " 'walking_or_standing_up': 8}"
      ]
     },
     "metadata": {},
     "execution_count": 58
    }
   ],
   "metadata": {}
  },
  {
   "cell_type": "code",
   "execution_count": 59,
   "source": [
    "TRAIN_STEPS = train_generator.n // BS\n",
    "print(TRAIN_STEPS)\n",
    "VALID_STEPS = test_generator.n // BS\n",
    "print(VALID_STEPS)"
   ],
   "outputs": [
    {
     "output_type": "stream",
     "name": "stdout",
     "text": [
      "3619\n",
      "904\n"
     ]
    }
   ],
   "metadata": {}
  },
  {
   "cell_type": "code",
   "execution_count": 60,
   "source": [
    "from tensorflow.keras.callbacks import EarlyStopping\n",
    "early_stop= EarlyStopping(monitor='val_loss',patience=3)"
   ],
   "outputs": [],
   "metadata": {}
  },
  {
   "cell_type": "code",
   "execution_count": 61,
   "source": [
    "from tensorflow.keras.callbacks import ModelCheckpoint\n",
    "safe_mkdir(MODELS_PATH)\n",
    "mc = ModelCheckpoint(f'{MODELS_PATH}/EfficientNetB0_Multicam.h5', save_best_only = True, monitor='val_accuracy', mode='max',verbose=1)"
   ],
   "outputs": [],
   "metadata": {}
  },
  {
   "cell_type": "code",
   "execution_count": 62,
   "source": [
    "preds = model.fit(train_generator, epochs=100, steps_per_epoch = TRAIN_STEPS, validation_data=test_generator, validation_steps=VALID_STEPS,callbacks=[early_stop,mc])"
   ],
   "outputs": [
    {
     "output_type": "stream",
     "name": "stdout",
     "text": [
      "Epoch 1/100\n"
     ]
    },
    {
     "output_type": "stream",
     "name": "stderr",
     "text": [
      "2021-09-16 14:57:05.372366: I tensorflow/core/grappler/optimizers/custom_graph_optimizer_registry.cc:112] Plugin optimizer for device_type GPU is enabled.\n"
     ]
    },
    {
     "output_type": "error",
     "ename": "InvalidArgumentError",
     "evalue": "2 root error(s) found.\n  (0) Invalid argument:  Can not squeeze dim[1], expected a dimension of 1, got 9\n\t [[node Squeeze (defined at var/folders/tn/d1_5tcmd7c52fnmphb0d7q0w0000gn/T/ipykernel_50669/9515659.py:1) ]]\n\t [[sequential_2/dense_11/Softmax/_16]]\n  (1) Invalid argument:  Can not squeeze dim[1], expected a dimension of 1, got 9\n\t [[node Squeeze (defined at var/folders/tn/d1_5tcmd7c52fnmphb0d7q0w0000gn/T/ipykernel_50669/9515659.py:1) ]]\n0 successful operations.\n0 derived errors ignored. [Op:__inference_train_function_34918]\n\nFunction call stack:\ntrain_function -> train_function\n",
     "traceback": [
      "\u001b[0;31m---------------------------------------------------------------------------\u001b[0m",
      "\u001b[0;31mInvalidArgumentError\u001b[0m                      Traceback (most recent call last)",
      "\u001b[0;32m/var/folders/tn/d1_5tcmd7c52fnmphb0d7q0w0000gn/T/ipykernel_50669/9515659.py\u001b[0m in \u001b[0;36m<module>\u001b[0;34m\u001b[0m\n\u001b[0;32m----> 1\u001b[0;31m \u001b[0mpreds\u001b[0m \u001b[0;34m=\u001b[0m \u001b[0mmodel\u001b[0m\u001b[0;34m.\u001b[0m\u001b[0mfit\u001b[0m\u001b[0;34m(\u001b[0m\u001b[0mtrain_generator\u001b[0m\u001b[0;34m,\u001b[0m \u001b[0mepochs\u001b[0m\u001b[0;34m=\u001b[0m\u001b[0;36m100\u001b[0m\u001b[0;34m,\u001b[0m \u001b[0msteps_per_epoch\u001b[0m \u001b[0;34m=\u001b[0m \u001b[0mTRAIN_STEPS\u001b[0m\u001b[0;34m,\u001b[0m \u001b[0mvalidation_data\u001b[0m\u001b[0;34m=\u001b[0m\u001b[0mtest_generator\u001b[0m\u001b[0;34m,\u001b[0m \u001b[0mvalidation_steps\u001b[0m\u001b[0;34m=\u001b[0m\u001b[0mVALID_STEPS\u001b[0m\u001b[0;34m,\u001b[0m\u001b[0mcallbacks\u001b[0m\u001b[0;34m=\u001b[0m\u001b[0;34m[\u001b[0m\u001b[0mearly_stop\u001b[0m\u001b[0;34m,\u001b[0m\u001b[0mmc\u001b[0m\u001b[0;34m]\u001b[0m\u001b[0;34m)\u001b[0m\u001b[0;34m\u001b[0m\u001b[0;34m\u001b[0m\u001b[0m\n\u001b[0m",
      "\u001b[0;32m~/miniforge3/envs/ml/lib/python3.9/site-packages/tensorflow/python/keras/engine/training.py\u001b[0m in \u001b[0;36mfit\u001b[0;34m(self, x, y, batch_size, epochs, verbose, callbacks, validation_split, validation_data, shuffle, class_weight, sample_weight, initial_epoch, steps_per_epoch, validation_steps, validation_batch_size, validation_freq, max_queue_size, workers, use_multiprocessing)\u001b[0m\n\u001b[1;32m   1181\u001b[0m                 _r=1):\n\u001b[1;32m   1182\u001b[0m               \u001b[0mcallbacks\u001b[0m\u001b[0;34m.\u001b[0m\u001b[0mon_train_batch_begin\u001b[0m\u001b[0;34m(\u001b[0m\u001b[0mstep\u001b[0m\u001b[0;34m)\u001b[0m\u001b[0;34m\u001b[0m\u001b[0;34m\u001b[0m\u001b[0m\n\u001b[0;32m-> 1183\u001b[0;31m               \u001b[0mtmp_logs\u001b[0m \u001b[0;34m=\u001b[0m \u001b[0mself\u001b[0m\u001b[0;34m.\u001b[0m\u001b[0mtrain_function\u001b[0m\u001b[0;34m(\u001b[0m\u001b[0miterator\u001b[0m\u001b[0;34m)\u001b[0m\u001b[0;34m\u001b[0m\u001b[0;34m\u001b[0m\u001b[0m\n\u001b[0m\u001b[1;32m   1184\u001b[0m               \u001b[0;32mif\u001b[0m \u001b[0mdata_handler\u001b[0m\u001b[0;34m.\u001b[0m\u001b[0mshould_sync\u001b[0m\u001b[0;34m:\u001b[0m\u001b[0;34m\u001b[0m\u001b[0;34m\u001b[0m\u001b[0m\n\u001b[1;32m   1185\u001b[0m                 \u001b[0mcontext\u001b[0m\u001b[0;34m.\u001b[0m\u001b[0masync_wait\u001b[0m\u001b[0;34m(\u001b[0m\u001b[0;34m)\u001b[0m\u001b[0;34m\u001b[0m\u001b[0;34m\u001b[0m\u001b[0m\n",
      "\u001b[0;32m~/miniforge3/envs/ml/lib/python3.9/site-packages/tensorflow/python/eager/def_function.py\u001b[0m in \u001b[0;36m__call__\u001b[0;34m(self, *args, **kwds)\u001b[0m\n\u001b[1;32m    887\u001b[0m \u001b[0;34m\u001b[0m\u001b[0m\n\u001b[1;32m    888\u001b[0m       \u001b[0;32mwith\u001b[0m \u001b[0mOptionalXlaContext\u001b[0m\u001b[0;34m(\u001b[0m\u001b[0mself\u001b[0m\u001b[0;34m.\u001b[0m\u001b[0m_jit_compile\u001b[0m\u001b[0;34m)\u001b[0m\u001b[0;34m:\u001b[0m\u001b[0;34m\u001b[0m\u001b[0;34m\u001b[0m\u001b[0m\n\u001b[0;32m--> 889\u001b[0;31m         \u001b[0mresult\u001b[0m \u001b[0;34m=\u001b[0m \u001b[0mself\u001b[0m\u001b[0;34m.\u001b[0m\u001b[0m_call\u001b[0m\u001b[0;34m(\u001b[0m\u001b[0;34m*\u001b[0m\u001b[0margs\u001b[0m\u001b[0;34m,\u001b[0m \u001b[0;34m**\u001b[0m\u001b[0mkwds\u001b[0m\u001b[0;34m)\u001b[0m\u001b[0;34m\u001b[0m\u001b[0;34m\u001b[0m\u001b[0m\n\u001b[0m\u001b[1;32m    890\u001b[0m \u001b[0;34m\u001b[0m\u001b[0m\n\u001b[1;32m    891\u001b[0m       \u001b[0mnew_tracing_count\u001b[0m \u001b[0;34m=\u001b[0m \u001b[0mself\u001b[0m\u001b[0;34m.\u001b[0m\u001b[0mexperimental_get_tracing_count\u001b[0m\u001b[0;34m(\u001b[0m\u001b[0;34m)\u001b[0m\u001b[0;34m\u001b[0m\u001b[0;34m\u001b[0m\u001b[0m\n",
      "\u001b[0;32m~/miniforge3/envs/ml/lib/python3.9/site-packages/tensorflow/python/eager/def_function.py\u001b[0m in \u001b[0;36m_call\u001b[0;34m(self, *args, **kwds)\u001b[0m\n\u001b[1;32m    948\u001b[0m         \u001b[0;31m# Lifting succeeded, so variables are initialized and we can run the\u001b[0m\u001b[0;34m\u001b[0m\u001b[0;34m\u001b[0m\u001b[0m\n\u001b[1;32m    949\u001b[0m         \u001b[0;31m# stateless function.\u001b[0m\u001b[0;34m\u001b[0m\u001b[0;34m\u001b[0m\u001b[0m\n\u001b[0;32m--> 950\u001b[0;31m         \u001b[0;32mreturn\u001b[0m \u001b[0mself\u001b[0m\u001b[0;34m.\u001b[0m\u001b[0m_stateless_fn\u001b[0m\u001b[0;34m(\u001b[0m\u001b[0;34m*\u001b[0m\u001b[0margs\u001b[0m\u001b[0;34m,\u001b[0m \u001b[0;34m**\u001b[0m\u001b[0mkwds\u001b[0m\u001b[0;34m)\u001b[0m\u001b[0;34m\u001b[0m\u001b[0;34m\u001b[0m\u001b[0m\n\u001b[0m\u001b[1;32m    951\u001b[0m     \u001b[0;32melse\u001b[0m\u001b[0;34m:\u001b[0m\u001b[0;34m\u001b[0m\u001b[0;34m\u001b[0m\u001b[0m\n\u001b[1;32m    952\u001b[0m       \u001b[0m_\u001b[0m\u001b[0;34m,\u001b[0m \u001b[0m_\u001b[0m\u001b[0;34m,\u001b[0m \u001b[0m_\u001b[0m\u001b[0;34m,\u001b[0m \u001b[0mfiltered_flat_args\u001b[0m \u001b[0;34m=\u001b[0m\u001b[0;31m \u001b[0m\u001b[0;31m\\\u001b[0m\u001b[0;34m\u001b[0m\u001b[0;34m\u001b[0m\u001b[0m\n",
      "\u001b[0;32m~/miniforge3/envs/ml/lib/python3.9/site-packages/tensorflow/python/eager/function.py\u001b[0m in \u001b[0;36m__call__\u001b[0;34m(self, *args, **kwargs)\u001b[0m\n\u001b[1;32m   3021\u001b[0m       (graph_function,\n\u001b[1;32m   3022\u001b[0m        filtered_flat_args) = self._maybe_define_function(args, kwargs)\n\u001b[0;32m-> 3023\u001b[0;31m     return graph_function._call_flat(\n\u001b[0m\u001b[1;32m   3024\u001b[0m         filtered_flat_args, captured_inputs=graph_function.captured_inputs)  # pylint: disable=protected-access\n\u001b[1;32m   3025\u001b[0m \u001b[0;34m\u001b[0m\u001b[0m\n",
      "\u001b[0;32m~/miniforge3/envs/ml/lib/python3.9/site-packages/tensorflow/python/eager/function.py\u001b[0m in \u001b[0;36m_call_flat\u001b[0;34m(self, args, captured_inputs, cancellation_manager)\u001b[0m\n\u001b[1;32m   1958\u001b[0m         and executing_eagerly):\n\u001b[1;32m   1959\u001b[0m       \u001b[0;31m# No tape is watching; skip to running the function.\u001b[0m\u001b[0;34m\u001b[0m\u001b[0;34m\u001b[0m\u001b[0m\n\u001b[0;32m-> 1960\u001b[0;31m       return self._build_call_outputs(self._inference_function.call(\n\u001b[0m\u001b[1;32m   1961\u001b[0m           ctx, args, cancellation_manager=cancellation_manager))\n\u001b[1;32m   1962\u001b[0m     forward_backward = self._select_forward_and_backward_functions(\n",
      "\u001b[0;32m~/miniforge3/envs/ml/lib/python3.9/site-packages/tensorflow/python/eager/function.py\u001b[0m in \u001b[0;36mcall\u001b[0;34m(self, ctx, args, cancellation_manager)\u001b[0m\n\u001b[1;32m    589\u001b[0m       \u001b[0;32mwith\u001b[0m \u001b[0m_InterpolateFunctionError\u001b[0m\u001b[0;34m(\u001b[0m\u001b[0mself\u001b[0m\u001b[0;34m)\u001b[0m\u001b[0;34m:\u001b[0m\u001b[0;34m\u001b[0m\u001b[0;34m\u001b[0m\u001b[0m\n\u001b[1;32m    590\u001b[0m         \u001b[0;32mif\u001b[0m \u001b[0mcancellation_manager\u001b[0m \u001b[0;32mis\u001b[0m \u001b[0;32mNone\u001b[0m\u001b[0;34m:\u001b[0m\u001b[0;34m\u001b[0m\u001b[0;34m\u001b[0m\u001b[0m\n\u001b[0;32m--> 591\u001b[0;31m           outputs = execute.execute(\n\u001b[0m\u001b[1;32m    592\u001b[0m               \u001b[0mstr\u001b[0m\u001b[0;34m(\u001b[0m\u001b[0mself\u001b[0m\u001b[0;34m.\u001b[0m\u001b[0msignature\u001b[0m\u001b[0;34m.\u001b[0m\u001b[0mname\u001b[0m\u001b[0;34m)\u001b[0m\u001b[0;34m,\u001b[0m\u001b[0;34m\u001b[0m\u001b[0;34m\u001b[0m\u001b[0m\n\u001b[1;32m    593\u001b[0m               \u001b[0mnum_outputs\u001b[0m\u001b[0;34m=\u001b[0m\u001b[0mself\u001b[0m\u001b[0;34m.\u001b[0m\u001b[0m_num_outputs\u001b[0m\u001b[0;34m,\u001b[0m\u001b[0;34m\u001b[0m\u001b[0;34m\u001b[0m\u001b[0m\n",
      "\u001b[0;32m~/miniforge3/envs/ml/lib/python3.9/site-packages/tensorflow/python/eager/execute.py\u001b[0m in \u001b[0;36mquick_execute\u001b[0;34m(op_name, num_outputs, inputs, attrs, ctx, name)\u001b[0m\n\u001b[1;32m     57\u001b[0m   \u001b[0;32mtry\u001b[0m\u001b[0;34m:\u001b[0m\u001b[0;34m\u001b[0m\u001b[0;34m\u001b[0m\u001b[0m\n\u001b[1;32m     58\u001b[0m     \u001b[0mctx\u001b[0m\u001b[0;34m.\u001b[0m\u001b[0mensure_initialized\u001b[0m\u001b[0;34m(\u001b[0m\u001b[0;34m)\u001b[0m\u001b[0;34m\u001b[0m\u001b[0;34m\u001b[0m\u001b[0m\n\u001b[0;32m---> 59\u001b[0;31m     tensors = pywrap_tfe.TFE_Py_Execute(ctx._handle, device_name, op_name,\n\u001b[0m\u001b[1;32m     60\u001b[0m                                         inputs, attrs, num_outputs)\n\u001b[1;32m     61\u001b[0m   \u001b[0;32mexcept\u001b[0m \u001b[0mcore\u001b[0m\u001b[0;34m.\u001b[0m\u001b[0m_NotOkStatusException\u001b[0m \u001b[0;32mas\u001b[0m \u001b[0me\u001b[0m\u001b[0;34m:\u001b[0m\u001b[0;34m\u001b[0m\u001b[0;34m\u001b[0m\u001b[0m\n",
      "\u001b[0;31mInvalidArgumentError\u001b[0m: 2 root error(s) found.\n  (0) Invalid argument:  Can not squeeze dim[1], expected a dimension of 1, got 9\n\t [[node Squeeze (defined at var/folders/tn/d1_5tcmd7c52fnmphb0d7q0w0000gn/T/ipykernel_50669/9515659.py:1) ]]\n\t [[sequential_2/dense_11/Softmax/_16]]\n  (1) Invalid argument:  Can not squeeze dim[1], expected a dimension of 1, got 9\n\t [[node Squeeze (defined at var/folders/tn/d1_5tcmd7c52fnmphb0d7q0w0000gn/T/ipykernel_50669/9515659.py:1) ]]\n0 successful operations.\n0 derived errors ignored. [Op:__inference_train_function_34918]\n\nFunction call stack:\ntrain_function -> train_function\n"
     ]
    }
   ],
   "metadata": {}
  }
 ],
 "metadata": {
  "colab": {
   "collapsed_sections": [],
   "name": "open_fall_detector.ipynb",
   "provenance": []
  },
  "interpreter": {
   "hash": "4ae115b2c690c8048633d6d2aa6ea9acf17813ade292c030b7f3c8f33511fe9a"
  },
  "kernelspec": {
   "name": "python3",
   "display_name": "Python 3.9.7 64-bit ('ml': conda)"
  },
  "language_info": {
   "codemirror_mode": {
    "name": "ipython",
    "version": 3
   },
   "file_extension": ".py",
   "mimetype": "text/x-python",
   "name": "python",
   "nbconvert_exporter": "python",
   "pygments_lexer": "ipython3",
   "version": "3.9.7"
  }
 },
 "nbformat": 4,
 "nbformat_minor": 2
}