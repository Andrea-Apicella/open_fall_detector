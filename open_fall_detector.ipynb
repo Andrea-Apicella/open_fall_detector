{
  "nbformat": 4,
  "nbformat_minor": 0,
  "metadata": {
    "colab": {
      "name": "open_fall_detector.ipynb",
      "provenance": [],
      "collapsed_sections": []
    },
    "kernelspec": {
      "name": "python3",
      "display_name": "Python 3"
    }
  },
  "cells": [
    {
      "cell_type": "markdown",
      "metadata": {
        "id": "L7H_S7Cp_TRa"
      },
      "source": [
        "#Open Fall Detector\n"
      ]
    },
    {
      "cell_type": "markdown",
      "metadata": {
        "id": "foQ6oxty_eX4"
      },
      "source": [
        "##To do\n",
        "Implement a classificator based on MobileNetV2 or another light CNN architecture to extract features from Multicam and URFall datasets. Feed the features to a LSTM network with visual attention mechanism to classify features in ADL, falling and lying down categories.\n",
        "\n",
        "\n",
        "1.   Create dataframe with classes for Multicam in order to split dataset in subfolders\n",
        "2.   Split URFall in one folder per class\n",
        "3.   Choose the optimal lightweight yet performing CNN wich is convertible to Tensorflow.js and train it\n",
        "4. Understand how to implement the visual attention mechanism for the LSTM\n",
        "5. Understand how to feed LSTM with features extracted by the CNN\n",
        "\n"
      ]
    },
    {
      "cell_type": "code",
      "metadata": {
        "id": "EsL2kQ9v_Sny"
      },
      "source": [
        "import pandas as pd\n",
        "import numpy as np"
      ],
      "execution_count": 1,
      "outputs": []
    },
    {
      "cell_type": "code",
      "metadata": {
        "colab": {
          "base_uri": "https://localhost:8080/"
        },
        "id": "qWtzW5icvg8l",
        "outputId": "6b0e7fc4-53e7-4d30-fa4e-4b7d7e2416f6"
      },
      "source": [
        "from google.colab import drive\n",
        "drive.mount('/gdrive')\n",
        "%cd /gdrive"
      ],
      "execution_count": 4,
      "outputs": [
        {
          "output_type": "stream",
          "name": "stdout",
          "text": [
            "Mounted at /gdrive\n",
            "/gdrive\n"
          ]
        }
      ]
    },
    {
      "cell_type": "markdown",
      "metadata": {
        "id": "GyS75FPSA6hz"
      },
      "source": [
        "##1: Preprocessing Multicam"
      ]
    },
    {
      "cell_type": "code",
      "metadata": {
        "id": "OReA04W7KjxX",
        "colab": {
          "base_uri": "https://localhost:8080/",
          "height": 204
        },
        "outputId": "430d0ca8-0f8c-41d6-93e6-b40b1304c3f5"
      },
      "source": [
        "multicam_data_path = '/gdrive/MyDrive/Colab Notebooks/open_fall_detector/multicam.xlsx'\n",
        "delay_frames = pd.read_excel(multicam_data_path, sheet_name='delay_frames')\n",
        "delay_frames.head()"
      ],
      "execution_count": 11,
      "outputs": [
        {
          "output_type": "execute_result",
          "data": {
            "text/html": [
              "<div>\n",
              "<style scoped>\n",
              "    .dataframe tbody tr th:only-of-type {\n",
              "        vertical-align: middle;\n",
              "    }\n",
              "\n",
              "    .dataframe tbody tr th {\n",
              "        vertical-align: top;\n",
              "    }\n",
              "\n",
              "    .dataframe thead th {\n",
              "        text-align: right;\n",
              "    }\n",
              "</style>\n",
              "<table border=\"1\" class=\"dataframe\">\n",
              "  <thead>\n",
              "    <tr style=\"text-align: right;\">\n",
              "      <th></th>\n",
              "      <th>scenario_number</th>\n",
              "      <th>camera_1</th>\n",
              "      <th>camera_2</th>\n",
              "      <th>camera_3</th>\n",
              "      <th>camera_4</th>\n",
              "      <th>camera_5</th>\n",
              "      <th>camera_6</th>\n",
              "      <th>camera_7</th>\n",
              "      <th>camera_8</th>\n",
              "    </tr>\n",
              "  </thead>\n",
              "  <tbody>\n",
              "    <tr>\n",
              "      <th>0</th>\n",
              "      <td>1</td>\n",
              "      <td>3</td>\n",
              "      <td>3</td>\n",
              "      <td>8</td>\n",
              "      <td>4</td>\n",
              "      <td>23</td>\n",
              "      <td>6</td>\n",
              "      <td>6</td>\n",
              "      <td>0</td>\n",
              "    </tr>\n",
              "    <tr>\n",
              "      <th>1</th>\n",
              "      <td>2</td>\n",
              "      <td>25</td>\n",
              "      <td>40</td>\n",
              "      <td>0</td>\n",
              "      <td>16</td>\n",
              "      <td>18</td>\n",
              "      <td>33</td>\n",
              "      <td>33</td>\n",
              "      <td>6</td>\n",
              "    </tr>\n",
              "    <tr>\n",
              "      <th>2</th>\n",
              "      <td>3</td>\n",
              "      <td>12</td>\n",
              "      <td>16</td>\n",
              "      <td>8</td>\n",
              "      <td>16</td>\n",
              "      <td>35</td>\n",
              "      <td>20</td>\n",
              "      <td>20</td>\n",
              "      <td>0</td>\n",
              "    </tr>\n",
              "    <tr>\n",
              "      <th>3</th>\n",
              "      <td>4</td>\n",
              "      <td>72</td>\n",
              "      <td>79</td>\n",
              "      <td>78</td>\n",
              "      <td>0</td>\n",
              "      <td>68</td>\n",
              "      <td>82</td>\n",
              "      <td>83</td>\n",
              "      <td>56</td>\n",
              "    </tr>\n",
              "    <tr>\n",
              "      <th>4</th>\n",
              "      <td>5</td>\n",
              "      <td>17</td>\n",
              "      <td>24</td>\n",
              "      <td>5</td>\n",
              "      <td>11</td>\n",
              "      <td>7</td>\n",
              "      <td>26</td>\n",
              "      <td>28</td>\n",
              "      <td>0</td>\n",
              "    </tr>\n",
              "  </tbody>\n",
              "</table>\n",
              "</div>"
            ],
            "text/plain": [
              "   scenario_number  camera_1  camera_2  ...  camera_6  camera_7  camera_8\n",
              "0                1         3         3  ...         6         6         0\n",
              "1                2        25        40  ...        33        33         6\n",
              "2                3        12        16  ...        20        20         0\n",
              "3                4        72        79  ...        82        83        56\n",
              "4                5        17        24  ...        26        28         0\n",
              "\n",
              "[5 rows x 9 columns]"
            ]
          },
          "metadata": {},
          "execution_count": 11
        }
      ]
    },
    {
      "cell_type": "code",
      "metadata": {
        "id": "8XD08A-owO4r"
      },
      "source": [
        ""
      ],
      "execution_count": null,
      "outputs": []
    }
  ]
}